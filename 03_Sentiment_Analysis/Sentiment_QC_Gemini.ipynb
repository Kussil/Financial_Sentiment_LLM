{
  "nbformat": 4,
  "nbformat_minor": 0,
  "metadata": {
    "colab": {
      "provenance": []
    },
    "kernelspec": {
      "name": "python3",
      "display_name": "Python 3"
    },
    "language_info": {
      "name": "python"
    }
  },
  "cells": [
    {
      "cell_type": "markdown",
      "source": [
        "# Import Libraries and Clone Github"
      ],
      "metadata": {
        "id": "ANWEd2FMV7wo"
      }
    },
    {
      "cell_type": "code",
      "execution_count": null,
      "metadata": {
        "id": "PnkyZev8VyCR"
      },
      "outputs": [],
      "source": [
        "# Import Libraries\n",
        "import os\n",
        "from google.colab import userdata\n",
        "import google.generativeai as genai"
      ]
    },
    {
      "cell_type": "code",
      "source": [
        "# Import github token with google secrets thingy and clone git repository\n",
        "GITHUB_TOKEN = userdata.get('github')\n",
        "os.environ['GITHUB_TOKEN'] = GITHUB_TOKEN\n",
        "!git clone https://{GITHUB_TOKEN}@github.com/Kussil/Financial_Sentiment_LLM.git"
      ],
      "metadata": {
        "id": "XoHc8YzFZQlt"
      },
      "execution_count": null,
      "outputs": []
    },
    {
      "cell_type": "markdown",
      "source": [
        "# Import Data"
      ],
      "metadata": {
        "id": "-3uKiD_sXCJN"
      }
    },
    {
      "cell_type": "markdown",
      "source": [
        "### NOTE: Updated text processing file to add unique identifier, and also concatenate the source to the identifier.  Make sure to separate the earnings presentations from the earnings calls also"
      ],
      "metadata": {
        "id": "W2PIiVsBaI1T"
      }
    },
    {
      "cell_type": "code",
      "source": [
        "# Import all cleaned data files and merge into a df\n",
        "invest_df1 = pd.read_csv('/content/Financial_Sentiment_LLM/02_Cleaned_Data/Investment_Research_Part1.csv')\n",
        "invest_df2 = pd.read_csv('/content/Financial_Sentiment_LLM/02_Cleaned_Data/Investment_Research_Part2.csv')\n",
        "proquest_df = pd.read_csv('/content/Financial_Sentiment_LLM/02_Cleaned_Data/ProQuest_Articles.csv')\n",
        "earnings_presentations = pd.read_csv('/content/Financial_Sentiment_LLM/02_Cleaned_Data/Earnings_Presentations.csv')\n",
        "earnings_qa = pd.read_csv('/content/Financial_Sentiment_LLM/02_Cleaned_Data/Earnings_QA.csv')\n",
        "sec_df = pd.read_csv('/content/Financial_Sentiment_LLM/02_Cleaned_Data/SEC_Filings.csv')\n",
        "\n",
        "df = pd.concat([invest_df1, invest_df2, proquest_df, sec_df, earnings_presentations, earnings_qa], ignore_index=True)\n",
        "df['Article Index'] = df.index\n",
        "df['Date'] = pd.to_datetime(df['Date'], format='mixed')\n",
        "df['Date']= pd.to_datetime(df['Date']).dt.date\n",
        "df"
      ],
      "metadata": {
        "id": "NMT0excYXECE"
      },
      "execution_count": null,
      "outputs": []
    },
    {
      "cell_type": "markdown",
      "source": [
        "# Test Gemini Sentiment Analysis"
      ],
      "metadata": {
        "id": "C9cCA7vtYNyN"
      }
    },
    {
      "cell_type": "code",
      "source": [
        "# Set up prompt"
      ],
      "metadata": {
        "id": "1LIhAPpDYRYA"
      },
      "execution_count": null,
      "outputs": []
    },
    {
      "cell_type": "code",
      "source": [
        "# Set up function to query gemini"
      ],
      "metadata": {
        "id": "iqzpUQOyYeEy"
      },
      "execution_count": null,
      "outputs": []
    },
    {
      "cell_type": "code",
      "source": [
        "# Find a random article from each category.  Maybe 3.  Print them out. Depending on size, they might have to be different cells"
      ],
      "metadata": {
        "id": "u62Sc-r0Ygex"
      },
      "execution_count": null,
      "outputs": []
    },
    {
      "cell_type": "code",
      "source": [
        "# Query the articles and print the results for QC"
      ],
      "metadata": {
        "id": "MOQMp4arY1rY"
      },
      "execution_count": null,
      "outputs": []
    }
  ]
}