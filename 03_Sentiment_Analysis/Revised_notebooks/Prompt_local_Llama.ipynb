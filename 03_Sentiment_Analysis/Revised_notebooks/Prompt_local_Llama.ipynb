{
 "cells": [
  {
   "cell_type": "markdown",
   "metadata": {},
   "source": [
    "# Local LLama notebook\n",
    "\n",
    "Current notebook utilizes local LLama model installed on a local machine.\\\n",
    "Requirements:"
   ]
  },
  {
   "cell_type": "code",
   "execution_count": 1,
   "metadata": {},
   "outputs": [],
   "source": [
    "# Import Libraries\n",
    "import os\n",
    "import sys\n",
    "import time\n",
    "\n",
    "project_dir = os\n",
    "# Determine the project directory from the current working directory\n",
    "project_dir = os.path.abspath(os.path.join(os.getcwd(), '../..'))\n",
    "source_code_dir = os.path.join(project_dir, '10_Source_Code')\n",
    "# Add the path to the directory containing your module to the system path\n",
    "sys.path.append(source_code_dir)\n",
    "import llama_setup as ls\n",
    "import data_setup as ds"
   ]
  },
  {
   "cell_type": "code",
   "execution_count": 2,
   "metadata": {},
   "outputs": [],
   "source": [
    "# Global Variables\n",
    "CATEGORIES = [\n",
    "        \"Finance\",\n",
    "        \"Production\",\n",
    "        \"Reserves / Exploration / Acquisitions / Mergers / Divestments\",\n",
    "        \"Environment / Regulatory / Geopolitics\",\n",
    "        \"Alternative Energy / Lower Carbon\",\n",
    "        \"Oil Price / Natural Gas Price / Gasoline Price\"]\n",
    "\n",
    "SENTIMENT_RESULTS_FILE_PATH = 'LLama_model_sentiment_analysis_results.csv'\n",
    "\n",
    "ROWS_TO_DROP = ['PQ-2840736837']"
   ]
  },
  {
   "cell_type": "code",
   "execution_count": 3,
   "metadata": {},
   "outputs": [
    {
     "name": "stdout",
     "output_type": "stream",
     "text": [
      "Dropped rows: ['PQ-2840736837']\n"
     ]
    }
   ],
   "source": [
    "text_df = ds.load_cleaned_data()\n",
    "text_df = ds.drop_unprocessable_rows(text_df, ROWS_TO_DROP)\n",
    "#print(f\"Dropped rows: {ROWS_TO_DROP}\")"
   ]
  },
  {
   "cell_type": "code",
   "execution_count": 4,
   "metadata": {},
   "outputs": [
    {
     "name": "stdout",
     "output_type": "stream",
     "text": [
      "The file does not exist in the current directory.\n",
      "Created and saved an empty sentiment analysis DataFrame to LLama_model_sentiment_analysis_results.csv\n"
     ]
    }
   ],
   "source": [
    "# # Check if sentiment analysis results file exists\n",
    "# file_exists = ds.check_file_exists(SENTIMENT_RESULTS_FILE_PATH)\n",
    "\n",
    "# if file_exists:\n",
    "#     print(f\"The file exists in the current directory.\")\n",
    "# else:\n",
    "#     print(f\"The file does not exist in the current directory.\")\n",
    "#     empty_sentiment_df = ds.create_empty_sentiment_df(text_df, CATEGORIES)\n",
    "#     ds.save_dataframe_to_csv(empty_sentiment_df, SENTIMENT_RESULTS_FILE_PATH)\n",
    "#     print(f\"Created and saved an empty sentiment analysis DataFrame to {SENTIMENT_RESULTS_FILE_PATH}\")"
   ]
  },
  {
   "cell_type": "code",
   "execution_count": 5,
   "metadata": {},
   "outputs": [
    {
     "name": "stdout",
     "output_type": "stream",
     "text": [
      "IR-1\n"
     ]
    }
   ],
   "source": [
    "# # Find the first unique ID with empty values\n",
    "# unique_id = ds.find_first_unique_id_with_empty_values(SENTIMENT_RESULTS_FILE_PATH, CATEGORIES)\n",
    "# print(unique_id)"
   ]
  },
  {
   "cell_type": "code",
   "execution_count": 6,
   "metadata": {},
   "outputs": [],
   "source": [
    "# Get LLama inputs\n",
    "company, source, headline, text = ds.get_model_inputs(text_df, unique_id)\n",
    "# print(f\"Company: {company}\\n\")\n",
    "# print(f\"Source: {source}\\n\")\n",
    "# print(f\"Headline: {headline}\\n\")\n",
    "# print(f\"Text:\\n{text}\")"
   ]
  },
  {
   "cell_type": "code",
   "execution_count": 8,
   "metadata": {},
   "outputs": [],
   "source": [
    "# Define the template\n",
    "TEMPLATE = \"\"\"<s>Classify the following article into categories with sentiment (Positive, Neutral, Negative, N/A if not applicable or not mentioned) and provide the output in the specified dictionary format.\n",
    "Example:\n",
    "Article: ExxonMobil announced a significant increase in quarterly profits due to rising oil prices and increased production levels.\n",
    "Output: {{\"Finance\": \"Positive\", 'Production': \"Positive\", \"Reserves / Exploration / Acquisitions / Mergers / Divestments\": 'Neutral', \"Environment / Regulatory / Geopolitics\": 'Neutral', \"Alternative Energy / Lower Carbon\": 'Neutral', \"Oil Price / Natural Gas Price / Gasoline Price\": \"Positive\"}}\n",
    "\n",
    "Example:\n",
    "Article: Chevron plans to invest heavily in renewable energy projects, aiming to reduce its carbon footprint over the next decade.\n",
    "Output: {{'Finance': 'Neutral', 'Production': 'Neutral', \"Reserves / Exploration / Acquisitions / Mergers / Divestments\": 'Neutral', \"Environment / Regulatory / Geopolitics\": \"Positive\", \"Alternative Energy / Lower Carbon\": \"Positive\", \"Oil Price / Natural Gas Price / Gasoline Price\": 'Neutral'}}\n",
    "\n",
    "Example:\n",
    "Article: BP faced regulatory challenges in its latest drilling project, delaying operations and increasing costs.\n",
    "Output: {{'Finance': 'Negative', \"Production\": 'Negative', \"Reserves / Exploration / Acquisitions / Mergers / Divestments\": 'Negative', \"Environment / Regulatory / Geopolitics\": 'Negative', \"Alternative Energy / Lower Carbon\": 'Neutral', \"Oil Price / Natural Gas Price / Gasoline Price\": 'Neutral'}}\n",
    "\n",
    "Article: {article}\n",
    "\n",
    "Output only the EXACT dictionary format:\n",
    "{{\"Finance\": '[Sentiment]', \"Production\": '[Sentiment]', \"Reserves / Exploration / Acquisitions / Mergers / Divestments\": '[Sentiment]', \"Environment / Regulatory / Geopolitics\":: '[Sentiment]', \"Alternative Energy / Lower Carbon\": '[Sentiment]', \"Oil Price / Natural Gas Price / Gasoline Price\": '[Sentiment]'}}\n",
    "</s>\"\"\""
   ]
  },
  {
   "cell_type": "code",
   "execution_count": 9,
   "metadata": {},
   "outputs": [],
   "source": [
    "# response = ls.get_ollama_response(text, TEMPLATE)\n",
    "# sentiment_dict = ds.extract_and_convert_to_dict(response)\n",
    "## Check if sentiment_dict is a dictionary before updating the CSV\n",
    "# if isinstance(sentiment_dict, dict):\n",
    "#     ds.update_csv(SENTIMENT_RESULTS_FILE_PATH, unique_id, sentiment_dict)\n",
    "# else:\n",
    "#     print(\"Error: Sentiment dictionary not found. Skipping update.\")\n"
   ]
  },
  {
   "cell_type": "code",
   "execution_count": null,
   "metadata": {},
   "outputs": [],
   "source": [
    "# Main Loop\n",
    "start_time = time.time()\n",
    "unique_id = ds.find_first_unique_id_with_empty_values(SENTIMENT_RESULTS_FILE_PATH, CATEGORIES)\n",
    "count = 0\n",
    "max_tries = 5\n",
    "\n",
    "while unique_id:\n",
    "    retries = 0\n",
    "    success = False\n",
    "\n",
    "    while retries < max_tries and not success:\n",
    "        try:\n",
    "            company, source, headline, text = ds.get_model_inputs(text_df, unique_id)\n",
    "            response = ls.get_ollama_response(text, TEMPLATE)\n",
    "            sentiment_dict = ds.extract_and_convert_to_dict(response)\n",
    "\n",
    "            if isinstance(sentiment_dict, dict):\n",
    "                ds.update_csv(SENTIMENT_RESULTS_FILE_PATH, unique_id, sentiment_dict)\n",
    "                success = True\n",
    "            else:\n",
    "                print(\"Error: Sentiment dictionary not found. Skipping update.\")\n",
    "                retries += 1\n",
    "        except Exception as e:\n",
    "            print(f\"Error: {e}\")\n",
    "            retries += 1\n",
    "    if not success:\n",
    "        break\n",
    "\n",
    "    count += 1\n",
    "    if count % 10 == 0:\n",
    "        elapsed_time = time.time() - start_time\n",
    "        minutes, seconds = divmod(elapsed_time, 60)\n",
    "        print(f\"Iteration: {count}, Elapsed Time: {int(minutes)} minutes and {seconds:.2f} seconds\")\n",
    "\n",
    "    unique_id = ds.find_first_unique_id_with_empty_values(SENTIMENT_RESULTS_FILE_PATH, CATEGORIES)"
   ]
  },
  {
   "cell_type": "code",
   "execution_count": null,
   "metadata": {},
   "outputs": [],
   "source": []
  }
 ],
 "metadata": {
  "kernelspec": {
   "display_name": "LLM",
   "language": "python",
   "name": "python3"
  },
  "language_info": {
   "codemirror_mode": {
    "name": "ipython",
    "version": 3
   },
   "file_extension": ".py",
   "mimetype": "text/x-python",
   "name": "python",
   "nbconvert_exporter": "python",
   "pygments_lexer": "ipython3",
   "version": "3.9.11"
  }
 },
 "nbformat": 4,
 "nbformat_minor": 2
}
