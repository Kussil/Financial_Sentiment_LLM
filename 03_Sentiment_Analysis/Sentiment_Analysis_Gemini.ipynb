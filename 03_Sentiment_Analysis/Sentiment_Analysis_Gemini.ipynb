{
  "nbformat": 4,
  "nbformat_minor": 0,
  "metadata": {
    "colab": {
      "provenance": []
    },
    "kernelspec": {
      "name": "python3",
      "display_name": "Python 3"
    },
    "language_info": {
      "name": "python"
    }
  },
  "cells": [
    {
      "cell_type": "markdown",
      "source": [
        "# Import Libraries and Clone Github"
      ],
      "metadata": {
        "id": "Zy9ROy-SV-U8"
      }
    },
    {
      "cell_type": "code",
      "execution_count": null,
      "metadata": {
        "id": "pRIDt_1bVnna"
      },
      "outputs": [],
      "source": [
        "# Import Libraries\n",
        "import os\n",
        "from google.colab import userdata\n",
        "import google.generativeai as genai"
      ]
    },
    {
      "cell_type": "code",
      "source": [
        "# Import github token with google secrets thingy and clone git repository\n",
        "GITHUB_TOKEN = userdata.get('github')\n",
        "os.environ['GITHUB_TOKEN'] = GITHUB_TOKEN\n",
        "!git clone https://{GITHUB_TOKEN}@github.com/Kussil/Financial_Sentiment_LLM.git"
      ],
      "metadata": {
        "id": "lFnwhaOmZWjj"
      },
      "execution_count": null,
      "outputs": []
    },
    {
      "cell_type": "markdown",
      "source": [
        "# Import Data"
      ],
      "metadata": {
        "id": "WzRf877uW7h0"
      }
    },
    {
      "cell_type": "code",
      "source": [
        "# Import all cleaned data files and merge into a df\n",
        "invest_df1 = pd.read_csv('/content/Financial_Sentiment_LLM/02_Cleaned_Data/Investment_Research_Part1.csv')\n",
        "invest_df2 = pd.read_csv('/content/Financial_Sentiment_LLM/02_Cleaned_Data/Investment_Research_Part2.csv')\n",
        "proquest_df = pd.read_csv('/content/Financial_Sentiment_LLM/02_Cleaned_Data/ProQuest_Articles.csv')\n",
        "earnings_presentations = pd.read_csv('/content/Financial_Sentiment_LLM/02_Cleaned_Data/Earnings_Presentations.csv')\n",
        "earnings_qa = pd.read_csv('/content/Financial_Sentiment_LLM/02_Cleaned_Data/Earnings_QA.csv')\n",
        "sec_df = pd.read_csv('/content/Financial_Sentiment_LLM/02_Cleaned_Data/SEC_Filings.csv')\n",
        "\n",
        "df = pd.concat([invest_df1, invest_df2, proquest_df, sec_df, earnings_presentations, earnings_qa], ignore_index=True)\n",
        "df['Article Index'] = df.index\n",
        "df['Date'] = pd.to_datetime(df['Date'], format='mixed')\n",
        "df['Date']= pd.to_datetime(df['Date']).dt.date\n",
        "df"
      ],
      "metadata": {
        "id": "QQwgVqdqXFqZ"
      },
      "execution_count": null,
      "outputs": []
    },
    {
      "cell_type": "markdown",
      "source": [
        "# Create Empty CSV for Results\n",
        "### NOTE: DO NOT UNCOMMENT AND RUN CELL UNLESS YOU WANT TO DELETE EXISTING FILE"
      ],
      "metadata": {
        "id": "qqZ2XDGuWNLM"
      }
    },
    {
      "cell_type": "code",
      "source": [
        "# Create new df dropping text and adding new columns for the sentiment categories.  Put that df into a csv"
      ],
      "metadata": {
        "id": "3_gsRCosWRfE"
      },
      "execution_count": null,
      "outputs": []
    },
    {
      "cell_type": "markdown",
      "source": [
        "# Sentiment Analysis"
      ],
      "metadata": {
        "id": "CMeL1ZOcXSz9"
      }
    },
    {
      "cell_type": "code",
      "source": [
        "# Set up a prompt"
      ],
      "metadata": {
        "id": "eRjhvk_9Xapi"
      },
      "execution_count": null,
      "outputs": []
    },
    {
      "cell_type": "code",
      "source": [
        "# Set up a function.  It should query gemini, then parse the results directly into the csv.\n",
        "# It also needs to continue by looking for the last empty entry and will need significant amounts of error handling"
      ],
      "metadata": {
        "id": "rfIujTIrXj18"
      },
      "execution_count": null,
      "outputs": []
    },
    {
      "cell_type": "code",
      "source": [
        "# Run the function and print out results"
      ],
      "metadata": {
        "id": "D8ogR5BNYGEy"
      },
      "execution_count": null,
      "outputs": []
    }
  ]
}