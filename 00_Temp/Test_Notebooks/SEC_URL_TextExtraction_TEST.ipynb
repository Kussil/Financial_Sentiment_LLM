{
 "cells": [
  {
   "cell_type": "markdown",
   "id": "144e48ba",
   "metadata": {},
   "source": [
    "# SEC URL Text Extraction_TEST\n"
   ]
  },
  {
   "cell_type": "code",
   "execution_count": 1,
   "id": "aed50980",
   "metadata": {},
   "outputs": [
    {
     "name": "stdout",
     "output_type": "stream",
     "text": [
      "                                                 URL\n",
      "0  https://www.sec.gov/Archives/edgar/data/34088/...\n"
     ]
    }
   ],
   "source": [
    "import pandas as pd\n",
    "\n",
    "URL = \"https://www.sec.gov/Archives/edgar/data/34088/000003408824000029/xom-20240331.htm\"\n",
    "url_list = [URL]\n",
    "\n",
    "\n",
    "SEC_DF = pd.DataFrame(url_list, columns=['URL'])\n",
    "\n",
    "print(SEC_DF)"
   ]
  },
  {
   "cell_type": "code",
   "execution_count": 3,
   "id": "03149b91",
   "metadata": {},
   "outputs": [
    {
     "name": "stdout",
     "output_type": "stream",
     "text": [
      "Fetching content from: https://www.sec.gov/Archives/edgar/data/34088/000003408824000029/xom-20240331.htm\n",
      "Content fetched.\n",
      "All articles have been saved in SEC_TEST2.csv\n"
     ]
    }
   ],
   "source": [
    "import re\n",
    "import time\n",
    "from selenium import webdriver\n",
    "from selenium.webdriver.common.by import By\n",
    "from selenium.webdriver.support.ui import WebDriverWait\n",
    "from selenium.webdriver.support import expected_conditions as EC\n",
    "import requests\n",
    "from bs4 import BeautifulSoup\n",
    "from getpass import getpass\n",
    "import os\n",
    "\n",
    "\n",
    "def fetch_article_text_with_selenium(url):\n",
    "    # Set up Safari WebDriver\n",
    "    driver = webdriver.Safari()\n",
    "    driver.get(url)\n",
    "    time.sleep(5)  # Allow some time for the page to load\n",
    "\n",
    "    try:\n",
    "        print(\"Fetching content from:\", url)\n",
    "        content = driver.page_source\n",
    "        print(\"Content fetched.\")\n",
    "    except Exception as e:\n",
    "        content = f\"Failed to load content: {str(e)}\"\n",
    "        print(content)\n",
    "    finally:\n",
    "        driver.quit()\n",
    "    \n",
    "    return content\n",
    "\n",
    "def extract_text_from_spans(html_content):\n",
    "    soup = BeautifulSoup(html_content, 'html.parser')\n",
    "    spans = soup.find_all('span')\n",
    "    extracted_texts = [span.get_text() for span in spans]\n",
    "    return ' '.join(extracted_texts)  # Flatten the list into a single string\n",
    "\n",
    "\n",
    "results = []\n",
    "for index, row in SEC_DF.iterrows():\n",
    "    url = row['URL']\n",
    "    html_content = fetch_article_text_with_selenium(url)\n",
    "    extracted_texts = extract_text_from_spans(html_content)\n",
    "    results.append({'URL': url, 'Text': extracted_texts})    \n",
    "    \n",
    "# Convert results to DataFrame\n",
    "sec_results_df = pd.DataFrame(results)\n",
    "\n",
    "# Save to CSV\n",
    "sec_results_df.to_csv('SEC_TEST.csv', index=False)\n",
    "print('All articles have been saved in SEC_TEST.csv')\n"
   ]
  },
  {
   "cell_type": "code",
   "execution_count": null,
   "id": "b0389bab",
   "metadata": {},
   "outputs": [],
   "source": []
  }
 ],
 "metadata": {
  "kernelspec": {
   "display_name": "Python 3 (ipykernel)",
   "language": "python",
   "name": "python3"
  },
  "language_info": {
   "codemirror_mode": {
    "name": "ipython",
    "version": 3
   },
   "file_extension": ".py",
   "mimetype": "text/x-python",
   "name": "python",
   "nbconvert_exporter": "python",
   "pygments_lexer": "ipython3",
   "version": "3.11.5"
  }
 },
 "nbformat": 4,
 "nbformat_minor": 5
}
