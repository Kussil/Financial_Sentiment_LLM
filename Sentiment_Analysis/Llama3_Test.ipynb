{
  "nbformat": 4,
  "nbformat_minor": 0,
  "metadata": {
    "colab": {
      "provenance": [],
      "gpuType": "T4",
      "include_colab_link": true
    },
    "kernelspec": {
      "name": "python3",
      "display_name": "Python 3"
    },
    "language_info": {
      "name": "python"
    },
    "accelerator": "GPU"
  },
  "cells": [
    {
      "cell_type": "markdown",
      "metadata": {
        "id": "view-in-github",
        "colab_type": "text"
      },
      "source": [
        "<a href=\"https://colab.research.google.com/github/Kussil/CVX_Rice_project/blob/main/Sentiment_Analysis/Llama3_Test.ipynb\" target=\"_parent\"><img src=\"https://colab.research.google.com/assets/colab-badge.svg\" alt=\"Open In Colab\"/></a>"
      ]
    },
    {
      "cell_type": "markdown",
      "source": [
        "Code based on https://medium.com/@vishnuchirukandathramesh/how-to-run-mistral-7b-on-free-version-of-google-colab-e0effd9c6a12"
      ],
      "metadata": {
        "id": "fY8tfSOzj4JV"
      }
    },
    {
      "cell_type": "code",
      "execution_count": 1,
      "metadata": {
        "colab": {
          "base_uri": "https://localhost:8080/"
        },
        "id": "24-49DHtjxKh",
        "outputId": "6d077dd4-d358-450f-af17-2cf3122f32f0"
      },
      "outputs": [
        {
          "output_type": "stream",
          "name": "stdout",
          "text": [
            "\u001b[?25l     \u001b[90m━━━━━━━━━━━━━━━━━━━━━━━━━━━━━━━━━━━━━━━━\u001b[0m \u001b[32m0.0/973.7 kB\u001b[0m \u001b[31m?\u001b[0m eta \u001b[36m-:--:--\u001b[0m\r\u001b[2K     \u001b[91m━━━━━━━━━━━━━\u001b[0m\u001b[90m╺\u001b[0m\u001b[90m━━━━━━━━━━━━━━━━━━━━━━━━━━\u001b[0m \u001b[32m327.7/973.7 kB\u001b[0m \u001b[31m9.5 MB/s\u001b[0m eta \u001b[36m0:00:01\u001b[0m\r\u001b[2K     \u001b[90m━━━━━━━━━━━━━━━━━━━━━━━━━━━━━━━━━━━━━━━━\u001b[0m \u001b[32m973.7/973.7 kB\u001b[0m \u001b[31m14.3 MB/s\u001b[0m eta \u001b[36m0:00:00\u001b[0m\n",
            "\u001b[2K     \u001b[90m━━━━━━━━━━━━━━━━━━━━━━━━━━━━━━━━━━━━━━━━\u001b[0m \u001b[32m2.1/2.1 MB\u001b[0m \u001b[31m56.2 MB/s\u001b[0m eta \u001b[36m0:00:00\u001b[0m\n",
            "\u001b[2K     \u001b[90m━━━━━━━━━━━━━━━━━━━━━━━━━━━━━━━━━━━━━━━━\u001b[0m \u001b[32m9.1/9.1 MB\u001b[0m \u001b[31m62.5 MB/s\u001b[0m eta \u001b[36m0:00:00\u001b[0m\n",
            "\u001b[2K     \u001b[90m━━━━━━━━━━━━━━━━━━━━━━━━━━━━━━━━━━━━━━━━\u001b[0m \u001b[32m119.8/119.8 MB\u001b[0m \u001b[31m8.3 MB/s\u001b[0m eta \u001b[36m0:00:00\u001b[0m\n",
            "\u001b[2K     \u001b[90m━━━━━━━━━━━━━━━━━━━━━━━━━━━━━━━━━━━━━━━━\u001b[0m \u001b[32m302.6/302.6 kB\u001b[0m \u001b[31m26.7 MB/s\u001b[0m eta \u001b[36m0:00:00\u001b[0m\n",
            "\u001b[2K     \u001b[90m━━━━━━━━━━━━━━━━━━━━━━━━━━━━━━━━━━━━━━━━\u001b[0m \u001b[32m307.9/307.9 kB\u001b[0m \u001b[31m25.4 MB/s\u001b[0m eta \u001b[36m0:00:00\u001b[0m\n",
            "\u001b[2K     \u001b[90m━━━━━━━━━━━━━━━━━━━━━━━━━━━━━━━━━━━━━━━━\u001b[0m \u001b[32m121.2/121.2 kB\u001b[0m \u001b[31m11.8 MB/s\u001b[0m eta \u001b[36m0:00:00\u001b[0m\n",
            "\u001b[2K     \u001b[90m━━━━━━━━━━━━━━━━━━━━━━━━━━━━━━━━━━━━━━━━\u001b[0m \u001b[32m401.2/401.2 kB\u001b[0m \u001b[31m15.3 MB/s\u001b[0m eta \u001b[36m0:00:00\u001b[0m\n",
            "\u001b[2K     \u001b[90m━━━━━━━━━━━━━━━━━━━━━━━━━━━━━━━━━━━━━━━━\u001b[0m \u001b[32m49.3/49.3 kB\u001b[0m \u001b[31m1.7 MB/s\u001b[0m eta \u001b[36m0:00:00\u001b[0m\n",
            "\u001b[2K     \u001b[90m━━━━━━━━━━━━━━━━━━━━━━━━━━━━━━━━━━━━━━━━\u001b[0m \u001b[32m53.0/53.0 kB\u001b[0m \u001b[31m3.1 MB/s\u001b[0m eta \u001b[36m0:00:00\u001b[0m\n",
            "\u001b[2K     \u001b[90m━━━━━━━━━━━━━━━━━━━━━━━━━━━━━━━━━━━━━━━━\u001b[0m \u001b[32m142.5/142.5 kB\u001b[0m \u001b[31m1.2 MB/s\u001b[0m eta \u001b[36m0:00:00\u001b[0m\n",
            "\u001b[?25h"
          ]
        }
      ],
      "source": [
        "# Install Dependenies\n",
        "!pip install -q -U langchain langchain_community transformers bitsandbytes accelerate"
      ]
    },
    {
      "cell_type": "code",
      "source": [
        "# Import Libraries\n",
        "import torch\n",
        "from transformers import BitsAndBytesConfig\n",
        "from langchain import HuggingFacePipeline\n",
        "from langchain import PromptTemplate, LLMChain\n",
        "from transformers import AutoModelForCausalLM, AutoTokenizer, pipeline\n",
        "\n",
        "# Define Quantization\n",
        "quantization_config = BitsAndBytesConfig(\n",
        "    load_in_4bit=True,\n",
        "    bnb_4bit_compute_dtype=torch.float16,\n",
        "    bnb_4bit_quant_type=\"nf4\",\n",
        "    bnb_4bit_use_double_quant=True)"
      ],
      "metadata": {
        "id": "6jnX_Udyj9cd"
      },
      "execution_count": 2,
      "outputs": []
    },
    {
      "cell_type": "code",
      "source": [
        "# Load Model and Tokenizer\n",
        "model_4bit = AutoModelForCausalLM.from_pretrained( \"meta-llama/Meta-Llama-3-8B-Instruct\", device_map=\"auto\",quantization_config=quantization_config, )\n",
        "tokenizer = AutoTokenizer.from_pretrained(\"meta-llama/Meta-Llama-3-8B-Instruct\")"
      ],
      "metadata": {
        "colab": {
          "base_uri": "https://localhost:8080/",
          "height": 651
        },
        "id": "Z7Ap0lKhj9gh",
        "outputId": "a40148fa-c5aa-4a00-f137-2052eec12f1f"
      },
      "execution_count": 4,
      "outputs": [
        {
          "output_type": "error",
          "ename": "OSError",
          "evalue": "You are trying to access a gated repo.\nMake sure to have access to it at https://huggingface.co/meta-llama/Meta-Llama-3-8B-Instruct.\n403 Client Error. (Request ID: Root=1-664a69da-0072d5e612cf5f2c332599e2;498e5aa2-75ce-485b-9bcd-3f32e40bba9f)\n\nCannot access gated repo for url https://huggingface.co/meta-llama/Meta-Llama-3-8B-Instruct/resolve/main/config.json.\nYour request to access model meta-llama/Meta-Llama-3-8B-Instruct is awaiting a review from the repo authors.",
          "traceback": [
            "\u001b[0;31m---------------------------------------------------------------------------\u001b[0m",
            "\u001b[0;31mHTTPError\u001b[0m                                 Traceback (most recent call last)",
            "\u001b[0;32m/usr/local/lib/python3.10/dist-packages/huggingface_hub/utils/_errors.py\u001b[0m in \u001b[0;36mhf_raise_for_status\u001b[0;34m(response, endpoint_name)\u001b[0m\n\u001b[1;32m    303\u001b[0m     \u001b[0;32mtry\u001b[0m\u001b[0;34m:\u001b[0m\u001b[0;34m\u001b[0m\u001b[0;34m\u001b[0m\u001b[0m\n\u001b[0;32m--> 304\u001b[0;31m         \u001b[0mresponse\u001b[0m\u001b[0;34m.\u001b[0m\u001b[0mraise_for_status\u001b[0m\u001b[0;34m(\u001b[0m\u001b[0;34m)\u001b[0m\u001b[0;34m\u001b[0m\u001b[0;34m\u001b[0m\u001b[0m\n\u001b[0m\u001b[1;32m    305\u001b[0m     \u001b[0;32mexcept\u001b[0m \u001b[0mHTTPError\u001b[0m \u001b[0;32mas\u001b[0m \u001b[0me\u001b[0m\u001b[0;34m:\u001b[0m\u001b[0;34m\u001b[0m\u001b[0;34m\u001b[0m\u001b[0m\n",
            "\u001b[0;32m/usr/local/lib/python3.10/dist-packages/requests/models.py\u001b[0m in \u001b[0;36mraise_for_status\u001b[0;34m(self)\u001b[0m\n\u001b[1;32m   1020\u001b[0m         \u001b[0;32mif\u001b[0m \u001b[0mhttp_error_msg\u001b[0m\u001b[0;34m:\u001b[0m\u001b[0;34m\u001b[0m\u001b[0;34m\u001b[0m\u001b[0m\n\u001b[0;32m-> 1021\u001b[0;31m             \u001b[0;32mraise\u001b[0m \u001b[0mHTTPError\u001b[0m\u001b[0;34m(\u001b[0m\u001b[0mhttp_error_msg\u001b[0m\u001b[0;34m,\u001b[0m \u001b[0mresponse\u001b[0m\u001b[0;34m=\u001b[0m\u001b[0mself\u001b[0m\u001b[0;34m)\u001b[0m\u001b[0;34m\u001b[0m\u001b[0;34m\u001b[0m\u001b[0m\n\u001b[0m\u001b[1;32m   1022\u001b[0m \u001b[0;34m\u001b[0m\u001b[0m\n",
            "\u001b[0;31mHTTPError\u001b[0m: 403 Client Error: Forbidden for url: https://huggingface.co/meta-llama/Meta-Llama-3-8B-Instruct/resolve/main/config.json",
            "\nThe above exception was the direct cause of the following exception:\n",
            "\u001b[0;31mGatedRepoError\u001b[0m                            Traceback (most recent call last)",
            "\u001b[0;32m/usr/local/lib/python3.10/dist-packages/transformers/utils/hub.py\u001b[0m in \u001b[0;36mcached_file\u001b[0;34m(path_or_repo_id, filename, cache_dir, force_download, resume_download, proxies, token, revision, local_files_only, subfolder, repo_type, user_agent, _raise_exceptions_for_gated_repo, _raise_exceptions_for_missing_entries, _raise_exceptions_for_connection_errors, _commit_hash, **deprecated_kwargs)\u001b[0m\n\u001b[1;32m    398\u001b[0m         \u001b[0;31m# Load from URL or cache if already cached\u001b[0m\u001b[0;34m\u001b[0m\u001b[0;34m\u001b[0m\u001b[0m\n\u001b[0;32m--> 399\u001b[0;31m         resolved_file = hf_hub_download(\n\u001b[0m\u001b[1;32m    400\u001b[0m             \u001b[0mpath_or_repo_id\u001b[0m\u001b[0;34m,\u001b[0m\u001b[0;34m\u001b[0m\u001b[0;34m\u001b[0m\u001b[0m\n",
            "\u001b[0;32m/usr/local/lib/python3.10/dist-packages/huggingface_hub/utils/_validators.py\u001b[0m in \u001b[0;36m_inner_fn\u001b[0;34m(*args, **kwargs)\u001b[0m\n\u001b[1;32m    113\u001b[0m \u001b[0;34m\u001b[0m\u001b[0m\n\u001b[0;32m--> 114\u001b[0;31m         \u001b[0;32mreturn\u001b[0m \u001b[0mfn\u001b[0m\u001b[0;34m(\u001b[0m\u001b[0;34m*\u001b[0m\u001b[0margs\u001b[0m\u001b[0;34m,\u001b[0m \u001b[0;34m**\u001b[0m\u001b[0mkwargs\u001b[0m\u001b[0;34m)\u001b[0m\u001b[0;34m\u001b[0m\u001b[0;34m\u001b[0m\u001b[0m\n\u001b[0m\u001b[1;32m    115\u001b[0m \u001b[0;34m\u001b[0m\u001b[0m\n",
            "\u001b[0;32m/usr/local/lib/python3.10/dist-packages/huggingface_hub/file_download.py\u001b[0m in \u001b[0;36mhf_hub_download\u001b[0;34m(repo_id, filename, subfolder, repo_type, revision, library_name, library_version, cache_dir, local_dir, user_agent, force_download, proxies, etag_timeout, token, local_files_only, headers, endpoint, legacy_cache_layout, resume_download, force_filename, local_dir_use_symlinks)\u001b[0m\n\u001b[1;32m   1220\u001b[0m     \u001b[0;32melse\u001b[0m\u001b[0;34m:\u001b[0m\u001b[0;34m\u001b[0m\u001b[0;34m\u001b[0m\u001b[0m\n\u001b[0;32m-> 1221\u001b[0;31m         return _hf_hub_download_to_cache_dir(\n\u001b[0m\u001b[1;32m   1222\u001b[0m             \u001b[0;31m# Destination\u001b[0m\u001b[0;34m\u001b[0m\u001b[0;34m\u001b[0m\u001b[0m\n",
            "\u001b[0;32m/usr/local/lib/python3.10/dist-packages/huggingface_hub/file_download.py\u001b[0m in \u001b[0;36m_hf_hub_download_to_cache_dir\u001b[0;34m(cache_dir, repo_id, filename, repo_type, revision, headers, proxies, etag_timeout, endpoint, local_files_only, force_download)\u001b[0m\n\u001b[1;32m   1324\u001b[0m         \u001b[0;31m# Otherwise, raise appropriate error\u001b[0m\u001b[0;34m\u001b[0m\u001b[0;34m\u001b[0m\u001b[0m\n\u001b[0;32m-> 1325\u001b[0;31m         \u001b[0m_raise_on_head_call_error\u001b[0m\u001b[0;34m(\u001b[0m\u001b[0mhead_call_error\u001b[0m\u001b[0;34m,\u001b[0m \u001b[0mforce_download\u001b[0m\u001b[0;34m,\u001b[0m \u001b[0mlocal_files_only\u001b[0m\u001b[0;34m)\u001b[0m\u001b[0;34m\u001b[0m\u001b[0;34m\u001b[0m\u001b[0m\n\u001b[0m\u001b[1;32m   1326\u001b[0m \u001b[0;34m\u001b[0m\u001b[0m\n",
            "\u001b[0;32m/usr/local/lib/python3.10/dist-packages/huggingface_hub/file_download.py\u001b[0m in \u001b[0;36m_raise_on_head_call_error\u001b[0;34m(head_call_error, force_download, local_files_only)\u001b[0m\n\u001b[1;32m   1822\u001b[0m         \u001b[0;31m# Repo not found or gated => let's raise the actual error\u001b[0m\u001b[0;34m\u001b[0m\u001b[0;34m\u001b[0m\u001b[0m\n\u001b[0;32m-> 1823\u001b[0;31m         \u001b[0;32mraise\u001b[0m \u001b[0mhead_call_error\u001b[0m\u001b[0;34m\u001b[0m\u001b[0;34m\u001b[0m\u001b[0m\n\u001b[0m\u001b[1;32m   1824\u001b[0m     \u001b[0;32melse\u001b[0m\u001b[0;34m:\u001b[0m\u001b[0;34m\u001b[0m\u001b[0;34m\u001b[0m\u001b[0m\n",
            "\u001b[0;32m/usr/local/lib/python3.10/dist-packages/huggingface_hub/file_download.py\u001b[0m in \u001b[0;36m_get_metadata_or_catch_error\u001b[0;34m(repo_id, filename, repo_type, revision, endpoint, proxies, etag_timeout, headers, local_files_only, relative_filename, storage_folder)\u001b[0m\n\u001b[1;32m   1721\u001b[0m             \u001b[0;32mtry\u001b[0m\u001b[0;34m:\u001b[0m\u001b[0;34m\u001b[0m\u001b[0;34m\u001b[0m\u001b[0m\n\u001b[0;32m-> 1722\u001b[0;31m                 \u001b[0mmetadata\u001b[0m \u001b[0;34m=\u001b[0m \u001b[0mget_hf_file_metadata\u001b[0m\u001b[0;34m(\u001b[0m\u001b[0murl\u001b[0m\u001b[0;34m=\u001b[0m\u001b[0murl\u001b[0m\u001b[0;34m,\u001b[0m \u001b[0mproxies\u001b[0m\u001b[0;34m=\u001b[0m\u001b[0mproxies\u001b[0m\u001b[0;34m,\u001b[0m \u001b[0mtimeout\u001b[0m\u001b[0;34m=\u001b[0m\u001b[0metag_timeout\u001b[0m\u001b[0;34m,\u001b[0m \u001b[0mheaders\u001b[0m\u001b[0;34m=\u001b[0m\u001b[0mheaders\u001b[0m\u001b[0;34m)\u001b[0m\u001b[0;34m\u001b[0m\u001b[0;34m\u001b[0m\u001b[0m\n\u001b[0m\u001b[1;32m   1723\u001b[0m             \u001b[0;32mexcept\u001b[0m \u001b[0mEntryNotFoundError\u001b[0m \u001b[0;32mas\u001b[0m \u001b[0mhttp_error\u001b[0m\u001b[0;34m:\u001b[0m\u001b[0;34m\u001b[0m\u001b[0;34m\u001b[0m\u001b[0m\n",
            "\u001b[0;32m/usr/local/lib/python3.10/dist-packages/huggingface_hub/utils/_validators.py\u001b[0m in \u001b[0;36m_inner_fn\u001b[0;34m(*args, **kwargs)\u001b[0m\n\u001b[1;32m    113\u001b[0m \u001b[0;34m\u001b[0m\u001b[0m\n\u001b[0;32m--> 114\u001b[0;31m         \u001b[0;32mreturn\u001b[0m \u001b[0mfn\u001b[0m\u001b[0;34m(\u001b[0m\u001b[0;34m*\u001b[0m\u001b[0margs\u001b[0m\u001b[0;34m,\u001b[0m \u001b[0;34m**\u001b[0m\u001b[0mkwargs\u001b[0m\u001b[0;34m)\u001b[0m\u001b[0;34m\u001b[0m\u001b[0;34m\u001b[0m\u001b[0m\n\u001b[0m\u001b[1;32m    115\u001b[0m \u001b[0;34m\u001b[0m\u001b[0m\n",
            "\u001b[0;32m/usr/local/lib/python3.10/dist-packages/huggingface_hub/file_download.py\u001b[0m in \u001b[0;36mget_hf_file_metadata\u001b[0;34m(url, token, proxies, timeout, library_name, library_version, user_agent, headers)\u001b[0m\n\u001b[1;32m   1644\u001b[0m     \u001b[0;31m# Retrieve metadata\u001b[0m\u001b[0;34m\u001b[0m\u001b[0;34m\u001b[0m\u001b[0m\n\u001b[0;32m-> 1645\u001b[0;31m     r = _request_wrapper(\n\u001b[0m\u001b[1;32m   1646\u001b[0m         \u001b[0mmethod\u001b[0m\u001b[0;34m=\u001b[0m\u001b[0;34m\"HEAD\"\u001b[0m\u001b[0;34m,\u001b[0m\u001b[0;34m\u001b[0m\u001b[0;34m\u001b[0m\u001b[0m\n",
            "\u001b[0;32m/usr/local/lib/python3.10/dist-packages/huggingface_hub/file_download.py\u001b[0m in \u001b[0;36m_request_wrapper\u001b[0;34m(method, url, follow_relative_redirects, **params)\u001b[0m\n\u001b[1;32m    371\u001b[0m     \u001b[0;32mif\u001b[0m \u001b[0mfollow_relative_redirects\u001b[0m\u001b[0;34m:\u001b[0m\u001b[0;34m\u001b[0m\u001b[0;34m\u001b[0m\u001b[0m\n\u001b[0;32m--> 372\u001b[0;31m         response = _request_wrapper(\n\u001b[0m\u001b[1;32m    373\u001b[0m             \u001b[0mmethod\u001b[0m\u001b[0;34m=\u001b[0m\u001b[0mmethod\u001b[0m\u001b[0;34m,\u001b[0m\u001b[0;34m\u001b[0m\u001b[0;34m\u001b[0m\u001b[0m\n",
            "\u001b[0;32m/usr/local/lib/python3.10/dist-packages/huggingface_hub/file_download.py\u001b[0m in \u001b[0;36m_request_wrapper\u001b[0;34m(method, url, follow_relative_redirects, **params)\u001b[0m\n\u001b[1;32m    395\u001b[0m     \u001b[0mresponse\u001b[0m \u001b[0;34m=\u001b[0m \u001b[0mget_session\u001b[0m\u001b[0;34m(\u001b[0m\u001b[0;34m)\u001b[0m\u001b[0;34m.\u001b[0m\u001b[0mrequest\u001b[0m\u001b[0;34m(\u001b[0m\u001b[0mmethod\u001b[0m\u001b[0;34m=\u001b[0m\u001b[0mmethod\u001b[0m\u001b[0;34m,\u001b[0m \u001b[0murl\u001b[0m\u001b[0;34m=\u001b[0m\u001b[0murl\u001b[0m\u001b[0;34m,\u001b[0m \u001b[0;34m**\u001b[0m\u001b[0mparams\u001b[0m\u001b[0;34m)\u001b[0m\u001b[0;34m\u001b[0m\u001b[0;34m\u001b[0m\u001b[0m\n\u001b[0;32m--> 396\u001b[0;31m     \u001b[0mhf_raise_for_status\u001b[0m\u001b[0;34m(\u001b[0m\u001b[0mresponse\u001b[0m\u001b[0;34m)\u001b[0m\u001b[0;34m\u001b[0m\u001b[0;34m\u001b[0m\u001b[0m\n\u001b[0m\u001b[1;32m    397\u001b[0m     \u001b[0;32mreturn\u001b[0m \u001b[0mresponse\u001b[0m\u001b[0;34m\u001b[0m\u001b[0;34m\u001b[0m\u001b[0m\n",
            "\u001b[0;32m/usr/local/lib/python3.10/dist-packages/huggingface_hub/utils/_errors.py\u001b[0m in \u001b[0;36mhf_raise_for_status\u001b[0;34m(response, endpoint_name)\u001b[0m\n\u001b[1;32m    320\u001b[0m             )\n\u001b[0;32m--> 321\u001b[0;31m             \u001b[0;32mraise\u001b[0m \u001b[0mGatedRepoError\u001b[0m\u001b[0;34m(\u001b[0m\u001b[0mmessage\u001b[0m\u001b[0;34m,\u001b[0m \u001b[0mresponse\u001b[0m\u001b[0;34m)\u001b[0m \u001b[0;32mfrom\u001b[0m \u001b[0me\u001b[0m\u001b[0;34m\u001b[0m\u001b[0;34m\u001b[0m\u001b[0m\n\u001b[0m\u001b[1;32m    322\u001b[0m \u001b[0;34m\u001b[0m\u001b[0m\n",
            "\u001b[0;31mGatedRepoError\u001b[0m: 403 Client Error. (Request ID: Root=1-664a69da-0072d5e612cf5f2c332599e2;498e5aa2-75ce-485b-9bcd-3f32e40bba9f)\n\nCannot access gated repo for url https://huggingface.co/meta-llama/Meta-Llama-3-8B-Instruct/resolve/main/config.json.\nYour request to access model meta-llama/Meta-Llama-3-8B-Instruct is awaiting a review from the repo authors.",
            "\nThe above exception was the direct cause of the following exception:\n",
            "\u001b[0;31mOSError\u001b[0m                                   Traceback (most recent call last)",
            "\u001b[0;32m<ipython-input-4-03b285d2a344>\u001b[0m in \u001b[0;36m<cell line: 2>\u001b[0;34m()\u001b[0m\n\u001b[1;32m      1\u001b[0m \u001b[0;31m# Load Model and Tokenizer\u001b[0m\u001b[0;34m\u001b[0m\u001b[0;34m\u001b[0m\u001b[0m\n\u001b[0;32m----> 2\u001b[0;31m \u001b[0mmodel_4bit\u001b[0m \u001b[0;34m=\u001b[0m \u001b[0mAutoModelForCausalLM\u001b[0m\u001b[0;34m.\u001b[0m\u001b[0mfrom_pretrained\u001b[0m\u001b[0;34m(\u001b[0m \u001b[0;34m\"meta-llama/Meta-Llama-3-8B-Instruct\"\u001b[0m\u001b[0;34m,\u001b[0m \u001b[0mdevice_map\u001b[0m\u001b[0;34m=\u001b[0m\u001b[0;34m\"auto\"\u001b[0m\u001b[0;34m,\u001b[0m\u001b[0mquantization_config\u001b[0m\u001b[0;34m=\u001b[0m\u001b[0mquantization_config\u001b[0m\u001b[0;34m,\u001b[0m \u001b[0;34m)\u001b[0m\u001b[0;34m\u001b[0m\u001b[0;34m\u001b[0m\u001b[0m\n\u001b[0m\u001b[1;32m      3\u001b[0m \u001b[0mtokenizer\u001b[0m \u001b[0;34m=\u001b[0m \u001b[0mAutoTokenizer\u001b[0m\u001b[0;34m.\u001b[0m\u001b[0mfrom_pretrained\u001b[0m\u001b[0;34m(\u001b[0m\u001b[0;34m\"meta-llama/Meta-Llama-3-8B-Instruct\"\u001b[0m\u001b[0;34m)\u001b[0m\u001b[0;34m\u001b[0m\u001b[0;34m\u001b[0m\u001b[0m\n",
            "\u001b[0;32m/usr/local/lib/python3.10/dist-packages/transformers/models/auto/auto_factory.py\u001b[0m in \u001b[0;36mfrom_pretrained\u001b[0;34m(cls, pretrained_model_name_or_path, *model_args, **kwargs)\u001b[0m\n\u001b[1;32m    521\u001b[0m                 \u001b[0m_\u001b[0m \u001b[0;34m=\u001b[0m \u001b[0mkwargs\u001b[0m\u001b[0;34m.\u001b[0m\u001b[0mpop\u001b[0m\u001b[0;34m(\u001b[0m\u001b[0;34m\"quantization_config\"\u001b[0m\u001b[0;34m)\u001b[0m\u001b[0;34m\u001b[0m\u001b[0;34m\u001b[0m\u001b[0m\n\u001b[1;32m    522\u001b[0m \u001b[0;34m\u001b[0m\u001b[0m\n\u001b[0;32m--> 523\u001b[0;31m             config, kwargs = AutoConfig.from_pretrained(\n\u001b[0m\u001b[1;32m    524\u001b[0m                 \u001b[0mpretrained_model_name_or_path\u001b[0m\u001b[0;34m,\u001b[0m\u001b[0;34m\u001b[0m\u001b[0;34m\u001b[0m\u001b[0m\n\u001b[1;32m    525\u001b[0m                 \u001b[0mreturn_unused_kwargs\u001b[0m\u001b[0;34m=\u001b[0m\u001b[0;32mTrue\u001b[0m\u001b[0;34m,\u001b[0m\u001b[0;34m\u001b[0m\u001b[0;34m\u001b[0m\u001b[0m\n",
            "\u001b[0;32m/usr/local/lib/python3.10/dist-packages/transformers/models/auto/configuration_auto.py\u001b[0m in \u001b[0;36mfrom_pretrained\u001b[0;34m(cls, pretrained_model_name_or_path, **kwargs)\u001b[0m\n\u001b[1;32m    932\u001b[0m         \u001b[0mcode_revision\u001b[0m \u001b[0;34m=\u001b[0m \u001b[0mkwargs\u001b[0m\u001b[0;34m.\u001b[0m\u001b[0mpop\u001b[0m\u001b[0;34m(\u001b[0m\u001b[0;34m\"code_revision\"\u001b[0m\u001b[0;34m,\u001b[0m \u001b[0;32mNone\u001b[0m\u001b[0;34m)\u001b[0m\u001b[0;34m\u001b[0m\u001b[0;34m\u001b[0m\u001b[0m\n\u001b[1;32m    933\u001b[0m \u001b[0;34m\u001b[0m\u001b[0m\n\u001b[0;32m--> 934\u001b[0;31m         \u001b[0mconfig_dict\u001b[0m\u001b[0;34m,\u001b[0m \u001b[0munused_kwargs\u001b[0m \u001b[0;34m=\u001b[0m \u001b[0mPretrainedConfig\u001b[0m\u001b[0;34m.\u001b[0m\u001b[0mget_config_dict\u001b[0m\u001b[0;34m(\u001b[0m\u001b[0mpretrained_model_name_or_path\u001b[0m\u001b[0;34m,\u001b[0m \u001b[0;34m**\u001b[0m\u001b[0mkwargs\u001b[0m\u001b[0;34m)\u001b[0m\u001b[0;34m\u001b[0m\u001b[0;34m\u001b[0m\u001b[0m\n\u001b[0m\u001b[1;32m    935\u001b[0m         \u001b[0mhas_remote_code\u001b[0m \u001b[0;34m=\u001b[0m \u001b[0;34m\"auto_map\"\u001b[0m \u001b[0;32min\u001b[0m \u001b[0mconfig_dict\u001b[0m \u001b[0;32mand\u001b[0m \u001b[0;34m\"AutoConfig\"\u001b[0m \u001b[0;32min\u001b[0m \u001b[0mconfig_dict\u001b[0m\u001b[0;34m[\u001b[0m\u001b[0;34m\"auto_map\"\u001b[0m\u001b[0;34m]\u001b[0m\u001b[0;34m\u001b[0m\u001b[0;34m\u001b[0m\u001b[0m\n\u001b[1;32m    936\u001b[0m         \u001b[0mhas_local_code\u001b[0m \u001b[0;34m=\u001b[0m \u001b[0;34m\"model_type\"\u001b[0m \u001b[0;32min\u001b[0m \u001b[0mconfig_dict\u001b[0m \u001b[0;32mand\u001b[0m \u001b[0mconfig_dict\u001b[0m\u001b[0;34m[\u001b[0m\u001b[0;34m\"model_type\"\u001b[0m\u001b[0;34m]\u001b[0m \u001b[0;32min\u001b[0m \u001b[0mCONFIG_MAPPING\u001b[0m\u001b[0;34m\u001b[0m\u001b[0;34m\u001b[0m\u001b[0m\n",
            "\u001b[0;32m/usr/local/lib/python3.10/dist-packages/transformers/configuration_utils.py\u001b[0m in \u001b[0;36mget_config_dict\u001b[0;34m(cls, pretrained_model_name_or_path, **kwargs)\u001b[0m\n\u001b[1;32m    630\u001b[0m         \u001b[0moriginal_kwargs\u001b[0m \u001b[0;34m=\u001b[0m \u001b[0mcopy\u001b[0m\u001b[0;34m.\u001b[0m\u001b[0mdeepcopy\u001b[0m\u001b[0;34m(\u001b[0m\u001b[0mkwargs\u001b[0m\u001b[0;34m)\u001b[0m\u001b[0;34m\u001b[0m\u001b[0;34m\u001b[0m\u001b[0m\n\u001b[1;32m    631\u001b[0m         \u001b[0;31m# Get config dict associated with the base config file\u001b[0m\u001b[0;34m\u001b[0m\u001b[0;34m\u001b[0m\u001b[0m\n\u001b[0;32m--> 632\u001b[0;31m         \u001b[0mconfig_dict\u001b[0m\u001b[0;34m,\u001b[0m \u001b[0mkwargs\u001b[0m \u001b[0;34m=\u001b[0m \u001b[0mcls\u001b[0m\u001b[0;34m.\u001b[0m\u001b[0m_get_config_dict\u001b[0m\u001b[0;34m(\u001b[0m\u001b[0mpretrained_model_name_or_path\u001b[0m\u001b[0;34m,\u001b[0m \u001b[0;34m**\u001b[0m\u001b[0mkwargs\u001b[0m\u001b[0;34m)\u001b[0m\u001b[0;34m\u001b[0m\u001b[0;34m\u001b[0m\u001b[0m\n\u001b[0m\u001b[1;32m    633\u001b[0m         \u001b[0;32mif\u001b[0m \u001b[0;34m\"_commit_hash\"\u001b[0m \u001b[0;32min\u001b[0m \u001b[0mconfig_dict\u001b[0m\u001b[0;34m:\u001b[0m\u001b[0;34m\u001b[0m\u001b[0;34m\u001b[0m\u001b[0m\n\u001b[1;32m    634\u001b[0m             \u001b[0moriginal_kwargs\u001b[0m\u001b[0;34m[\u001b[0m\u001b[0;34m\"_commit_hash\"\u001b[0m\u001b[0;34m]\u001b[0m \u001b[0;34m=\u001b[0m \u001b[0mconfig_dict\u001b[0m\u001b[0;34m[\u001b[0m\u001b[0;34m\"_commit_hash\"\u001b[0m\u001b[0;34m]\u001b[0m\u001b[0;34m\u001b[0m\u001b[0;34m\u001b[0m\u001b[0m\n",
            "\u001b[0;32m/usr/local/lib/python3.10/dist-packages/transformers/configuration_utils.py\u001b[0m in \u001b[0;36m_get_config_dict\u001b[0;34m(cls, pretrained_model_name_or_path, **kwargs)\u001b[0m\n\u001b[1;32m    687\u001b[0m             \u001b[0;32mtry\u001b[0m\u001b[0;34m:\u001b[0m\u001b[0;34m\u001b[0m\u001b[0;34m\u001b[0m\u001b[0m\n\u001b[1;32m    688\u001b[0m                 \u001b[0;31m# Load from local folder or from cache or download from model Hub and cache\u001b[0m\u001b[0;34m\u001b[0m\u001b[0;34m\u001b[0m\u001b[0m\n\u001b[0;32m--> 689\u001b[0;31m                 resolved_config_file = cached_file(\n\u001b[0m\u001b[1;32m    690\u001b[0m                     \u001b[0mpretrained_model_name_or_path\u001b[0m\u001b[0;34m,\u001b[0m\u001b[0;34m\u001b[0m\u001b[0;34m\u001b[0m\u001b[0m\n\u001b[1;32m    691\u001b[0m                     \u001b[0mconfiguration_file\u001b[0m\u001b[0;34m,\u001b[0m\u001b[0;34m\u001b[0m\u001b[0;34m\u001b[0m\u001b[0m\n",
            "\u001b[0;32m/usr/local/lib/python3.10/dist-packages/transformers/utils/hub.py\u001b[0m in \u001b[0;36mcached_file\u001b[0;34m(path_or_repo_id, filename, cache_dir, force_download, resume_download, proxies, token, revision, local_files_only, subfolder, repo_type, user_agent, _raise_exceptions_for_gated_repo, _raise_exceptions_for_missing_entries, _raise_exceptions_for_connection_errors, _commit_hash, **deprecated_kwargs)\u001b[0m\n\u001b[1;32m    415\u001b[0m         \u001b[0;32mif\u001b[0m \u001b[0mresolved_file\u001b[0m \u001b[0;32mis\u001b[0m \u001b[0;32mnot\u001b[0m \u001b[0;32mNone\u001b[0m \u001b[0;32mor\u001b[0m \u001b[0;32mnot\u001b[0m \u001b[0m_raise_exceptions_for_gated_repo\u001b[0m\u001b[0;34m:\u001b[0m\u001b[0;34m\u001b[0m\u001b[0;34m\u001b[0m\u001b[0m\n\u001b[1;32m    416\u001b[0m             \u001b[0;32mreturn\u001b[0m \u001b[0mresolved_file\u001b[0m\u001b[0;34m\u001b[0m\u001b[0;34m\u001b[0m\u001b[0m\n\u001b[0;32m--> 417\u001b[0;31m         raise EnvironmentError(\n\u001b[0m\u001b[1;32m    418\u001b[0m             \u001b[0;34m\"You are trying to access a gated repo.\\nMake sure to have access to it at \"\u001b[0m\u001b[0;34m\u001b[0m\u001b[0;34m\u001b[0m\u001b[0m\n\u001b[1;32m    419\u001b[0m             \u001b[0;34mf\"https://huggingface.co/{path_or_repo_id}.\\n{str(e)}\"\u001b[0m\u001b[0;34m\u001b[0m\u001b[0;34m\u001b[0m\u001b[0m\n",
            "\u001b[0;31mOSError\u001b[0m: You are trying to access a gated repo.\nMake sure to have access to it at https://huggingface.co/meta-llama/Meta-Llama-3-8B-Instruct.\n403 Client Error. (Request ID: Root=1-664a69da-0072d5e612cf5f2c332599e2;498e5aa2-75ce-485b-9bcd-3f32e40bba9f)\n\nCannot access gated repo for url https://huggingface.co/meta-llama/Meta-Llama-3-8B-Instruct/resolve/main/config.json.\nYour request to access model meta-llama/Meta-Llama-3-8B-Instruct is awaiting a review from the repo authors."
          ]
        }
      ]
    },
    {
      "cell_type": "code",
      "source": [
        "# Create Hugging Face Pipeline\n",
        "pipeline_inst = pipeline(\n",
        "        \"text-generation\",\n",
        "        model=model_4bit,\n",
        "        tokenizer=tokenizer,\n",
        "        use_cache=True,\n",
        "        device_map=\"auto\",\n",
        "        max_length=5000,\n",
        "        do_sample=True,\n",
        "        top_k=5,\n",
        "        num_return_sequences=1,\n",
        "        eos_token_id=tokenizer.eos_token_id,\n",
        "        pad_token_id=tokenizer.eos_token_id)\n",
        "\n",
        "llm = HuggingFacePipeline(pipeline=pipeline_inst)"
      ],
      "metadata": {
        "id": "NHejUlTAj9jo"
      },
      "execution_count": null,
      "outputs": []
    },
    {
      "cell_type": "code",
      "source": [
        "# Prompt and response function\n",
        "template = \"\"\"<s>[INST] Given the text from a financial news article, analyze the content and produce a structured summary categorizing the company's performance and related impacts across multiple predefined categories. Each category should be listed with a corresponding sentiment derived from the article. If a category is not mentioned or relevant based on the article content, mark it as 'N/A'. Ensure that all categories are addressed for a comprehensive summary.\n",
        "\n",
        "        Categories and Sentiment Options to be Analyzed:\n",
        "        •\tFinancial Targets\n",
        "            •\tGreatly Exceeded Target\n",
        "            •\tExceeded Target\n",
        "            •\tAchieved Target\n",
        "            •\tBelow Target\n",
        "            •\tSignificantly below Target\n",
        "        •\tExploration / Discoveries\n",
        "            •\tMajor Discovery\n",
        "            •\tMinor Discovery\n",
        "            •\tFavorable Exploration Results\n",
        "            •\tUnfavorable Exploration Results\n",
        "            •\tExploration Failure\n",
        "        •\tReserves\n",
        "            •\tSignificant Reserves Add\n",
        "            •\tMinor Reserves Add\n",
        "            •\tStable Reserve Levels\n",
        "            •\tSmall Reserves Loss / Writeoff\n",
        "            •\tSignificant Reserves Depletions / Writeoff\n",
        "        •\tProduction Targets\n",
        "            •\tGreatly Exceeded Target\n",
        "            •\tExceeded Target\n",
        "            •\tAchieved Target\n",
        "            •\tBelow Target\n",
        "            •\tSignificantly below Target\n",
        "        •\tNew Energy Investments / Projects\n",
        "            •\tMajor Advancements in New Energy Initiatives\n",
        "            •\tMinor Advancements in New Energy Initiatives\n",
        "            •\tSetback in New Energies Project\n",
        "            •\tNew Energy Projects Abandoned or Failed\n",
        "        •\tAcquisitions and Mergers\n",
        "            •\tMajor Acquisition or Merger\n",
        "            •\tMinor Acquisition or Merger\n",
        "            •\tDelay in Acquisition or Merger\n",
        "            •\tCancelled Acquisition or Merger\n",
        "        •\tDivestments\n",
        "            •\tMajor Divestment\n",
        "            •\tSmall Divestment\n",
        "        •\tPublic Sentiment\n",
        "            •\tVery Positive\n",
        "            •\tPositive\n",
        "            •\tNeutral\n",
        "            •\tNegative\n",
        "            •\tVery Negative\n",
        "        •\tRegulatory / Geopolitical Factors\n",
        "            •\tFavorable change to Operations\n",
        "            •\tPotential Large Disruption to Operations\n",
        "            •\tPotential Small Disruption to Operations\n",
        "        •\tEnvironmental Factors\n",
        "            •\tVery Positive\n",
        "            •\tPositive\n",
        "            •\tNeutral\n",
        "            •\tNegative\n",
        "            •\tVery Negative\n",
        "\n",
        "        Output Format:\n",
        "        •\tUse bullet points for each category.\n",
        "        •\tFor each category, provide the status or sentiment extracted from the article. If no specific information is available, indicate 'N/A'.\n",
        "\n",
        "        Example Output:\n",
        "            •\tFinancial Targets - Achieved Target\n",
        "            •\tExploration / Discoveries - N/A\n",
        "            •\tReserves - Minor Reserves Add\n",
        "            •\tProduction Targets - Greatly Exceeded Target\n",
        "            •\tNew Energy Investments / Projects - Major Advancements in New Energy Initiatives\n",
        "            •\tAcquisitions and Mergers - Major Acquisition or Merger\n",
        "            •\tDivestments - N/A\n",
        "            •\tPublic Sentiment - Very Positive\n",
        "            •\tRegulatory / Geopolitical Factors - Potential Small Disruption to Operations\n",
        "            •\tEnvironmental Factors - Neutral\n",
        "\n",
        "        Task:\n",
        "        •\tParse the article text to identify relevant data points and sentiments for each category.\n",
        "        •\tSummarize the findings in the specified output format.\n",
        "        •\tMaintain accuracy and clarity in categorization and summary presentation.\n",
        "\n",
        "        **Constraints:** ONLY RESPOND USING THE PROVIDED FORMAT/n/n\n",
        "\n",
        "        The text from the financial news article is below:\n",
        "        {article} [/INST] </s>\n",
        "        \"\"\"\n",
        "\n",
        "def generate_response(article):\n",
        "  prompt = PromptTemplate(template=template, input_variables=[\"article\"])\n",
        "  llm_chain = LLMChain(prompt=prompt, llm=llm)\n",
        "  response = llm_chain.run({\"article\":article})\n",
        "  return response"
      ],
      "metadata": {
        "id": "-_JaxWnbj9mi"
      },
      "execution_count": null,
      "outputs": []
    },
    {
      "cell_type": "code",
      "source": [
        "# Input news article\n",
        "article = \"\"\"\n",
        "Is Chevron Stock A Buy Or A Sell After Revealing $53 Billion Hess Deal Is At Risk?\n",
        "FacebookTwitterLinkedInShare Licensing\n",
        "KIT NORTON10:48 AM ET 02/28/2024\n",
        "Dow Jones energy giant Chevron (CVX) was a strong candidate for investors looking to grab a piece of the 2022 energy bonanza, with CVX rising more than 50% even as the broader stock market declined. However, Chevron stock dropped 17% in 2023, and is now meeting resistance at its 200-day moving average as sagging oil and natural gas prices have whittled away at energy company profits and revenue. Is CVX a buy or a sell?\n",
        "\n",
        "X\n",
        "\n",
        "\n",
        "Meanwhile, on Monday the energy giant warned that its blockbuster $53 billion deal to buy Hess (HES) could be upended by Exxon Mobil (XOM) and China's Cnooc. Both companies are asserting they have a right to counter Chevron's bid for Hess's stake in Guyana.\n",
        "\n",
        "Hess and Chevron have been engaged in discussions with Exxon Mobil and China National Offshore Oil Corporation (Cnooc) regarding a right of first refusal provision in the joint operating agreement for the Stabroek Block offshore Guyana, according to a Feb. 26 Chevron regulatory filing.\n",
        "\n",
        "\"If these discussions do not result in an acceptable resolution and arbitration (if pursued) does not result in a confirmation that such right of first refusal provision is inapplicable to the merger, then there would be a failure of a closing condition under the merger agreement, in which case the merger would not close,\" Chevron wrote.\n",
        "\n",
        "\n",
        "Chevron stock edged down 2% while Hess shares dropped 3% Tuesday during market action.\n",
        "\n",
        "CVX Entering 2024\n",
        "Chevron stock started 2024 by falling more than 1% in January. However, shares have angled slightly higher in February. Meanwhile, both Chevron and Exxon Mobil closed the door on 2023 in early February with mixed earnings and revenue reports. For the 2024 year, both companies forecast nearly flat oil production compared to 2023 levels.\n",
        "\n",
        "The two supermajors also enter 2024 after making mega deals in the latter part of 2023, which they got done without taking on any new debt.\n",
        "\n",
        "Exxon Mobil significantly expanded its Permian Basin holdings when it paid $60 billion for Pioneer Natural Resources (PXD) in October, 2023. Chevron quickly followed up with its $53 billion purchase of Hess, bolstering its share of an Exxon-led project offshore from Guyana.\n",
        "\n",
        "What Do The Exxon Mobil And Chevron Deals Say About The Oil Industry's Future?\n",
        "\n",
        "Buffett And Chevron\n",
        "Warren Buffett and Berkshire Hathaway (BRKB) reduced its CVX holdings in 2023. Berkshire Hathaway currently has a 6.7% stake (more than 126 million shares) in Chevron. Warren Buffett began buying the Dow Jones stock in 2020. Prior to Buffett's decision to sell CVX, beginning in Q1 2023, Berkshire Hathaway amassed a stake totaling 167 million CVX shares, worth around $29 billion.\n",
        "\n",
        "In 2022, as the U.S. economy bounced from Covid pandemic retreat to inflation-driven growth, Russia invaded Ukraine in February. The combination sent oil, gasoline and natural gas prices soaring. This resulted in Chevron, Exxon Mobil and other energy stocks leading the market, with the companies racking up record profits.\n",
        "\n",
        "However, Chevron investors had a tougher year in 2023 as oil markets turned lower after the Russia/Ukraine price spikes of 2022.\n",
        "\n",
        "Chevron To Report Fourth-Quarter Earnings\n",
        "The Dow Jones stock announced fourth-quarter earnings and revenue on Feb. 2. Chevron reported Q4 EPS of $3.45 with revenue totaling $47.18 billion. Analysts had predicted earnings of $3.19 per share and sales of $50.92 billion. For the full year, Chevron earnings fell 30% to $13.13 per share with revenue declining 15% to $200.95 billion. Chevron also increased its quarterly dividend by 8% to $1.63, from $1.51.\n",
        "\n",
        "Wall Street also expects EPS to fall again in 2024 to $12.75 with sales hitting $198.51 billion.\n",
        "\n",
        "Chevron Stock: 2024 Outlook\n",
        "Chevron plans to raise its capital spending in 2024. It targets global expenditures in a range of $18.5 billion to $19.5 billion, up 11% from $17 billion in 2023, according to its Dec. 6 corporate plan. This increase in capital spending comes as CVX shelled out $53 billion for Hess and purchased PDC Energy for $6.3 billion in 2023.\n",
        "\n",
        "After the Hess acquisition, Chevron also predicts capital spending will run at between $19 billion and $22 billion a year through 2027. That's up from its pre-Hess forecast of $14 billion -$16 billion. Wall Street forecasts CVX's 2024 earnings totaling $14.46 per share, down 23% compared to 2022, with sales dropping 15% to $201 billion.\n",
        "\n",
        "What Does 2024 Hold For The Energy Industry and The Permian Basin?\n",
        "\n",
        "Chevron expects 2024 upstream spending to be about $14 billion, with two-thirds of that allocated to the U.S., including around $5 billion for Chevron's Permian Basin development.\n",
        "\n",
        "CVX forecasts downstream capital expenditures to be roughly $1.5 billion, with 80% bookmarked for the U.S. Meanwhile, Chevron added it has about $2 billion in spending for \"lower carbon\" projects, in line with 2023 levels.\n",
        "\n",
        "\"We're maintaining capital discipline in both traditional and new energies,\" Chevron Chief Executive Mike Wirth said in the Dec. 6 announcement.\n",
        "\n",
        "Looking to 2024, Chevron announced in early February it expects production to increase 4%-7% compared to its 3.12 million barrels of oil equivalent per day in 2023. Analysts had been projecting a 14% production increase for Chevron.\n",
        "\n",
        "The U.S. supermajor, at its annual investor day in February 2023, ahead of its acquisition moves, outlined plans to have total oil and gas production increase around 3% above current levels by 2027.\n",
        "\n",
        "Chevron Revenue Slips\n",
        "The Dow Jones stock reported third-quarter earnings falling 45% to $3.05 per share with revenue declining 19% to $54.08 billion. The company said the EPS decrease was due to lower upstream realizations and lower margins on refined product sales. Meanwhile, Chevron added its revenue drop came on the back of lower oil and gas prices.\n",
        "\n",
        "Chevron's worldwide net oil-equivalent production was up 4% compared to 2022 mostly because of its PDC Energy deal. Oil production in the U.S. totaled 1.41 million barrels of oil equivalent per day, up 20% vs. 2022, due to the addition of PDC's 179,000 oil-equivalent barrels per day and production increases in the Permian Basin.\n",
        "\n",
        "Chevron's refinery product sales also jumped 4% on higher demand for jet fuel in the quarter.\n",
        "\n",
        "In the second quarter, Chevron earnings dropped nearly 50% to $3.08 per share with revenue of $48.89 billion, down 29% vs. Q2 2022. In Q1, Chevron topped Wall Street estimates, even as revenue slipped compared to a year ago. Earnings gained 6% to $3.55 per share in the first quarter. Sales dropped 6% to $50.79 billion. Higher margins on refined product sales drove the earning beat, the company said, partially offset by lower oil prices and rising production costs.\n",
        "\n",
        "CVX: Oil Price Uncertainty\n",
        "U.S. oil futures have been hovering above $77 per barrel in recent days. Goldman Sachs forecasts Brent crude prices between $70-$90 per barrel in 2024, cutting its expectation by $10 per barrel. The price of Brent crude, widely used as the global benchmark and which originates in Europe's North Sea fields, typically runs several dollars higher per barrel than West Texas Intermediate.\n",
        "\n",
        "\"While we have adjusted the range, we still look for rangebound prices and only moderate price volatility in 2024,\" the firm wrote. \"Elevated spare capacity to handle tightening shocks should limit upside price moves.\"\n",
        "\n",
        "What's In Store For Exxon Mobil And Chevron In 2024?\n",
        "\n",
        "Meanwhile, Third Bridge analyst Peter McNally has said he expects an uncertain year, with Brent crude trading in the range of $70-$95 per barrel in 2024.\n",
        "\n",
        "That status of China's economy, and its considerable demand for oil, also remains a large question mark for analysts heading into 2024.\n",
        "\n",
        "CFRA's Stewart Glickman sees current oil prices lower than they should be considering the current political picture, including China's economic outlook and the Organization of Petroleum Exporting Countries (OPEC) latest production quota action. Those factors should lift oil prices to a 2024 average somewhere closer to $90 per barrel, Glickman says.\n",
        "\n",
        "\"I am still reasonably bullish on crude,\" Glickman said. \"Not necessarily a great year, but a good year.\"\n",
        "\n",
        "Is Chevron Stock A Buy Right Now?\n",
        "Chevron stock dropped below its 200-day and 50-day averages in October 2023 when shares sank nearly 23%. The Dow Jones stock edged lower in November, dropping another 2%. Shares angled slightly higher in December but came back down in January.\n",
        "\n",
        "\n",
        "As of Feb. 28, CVX has gained 4% on the month and has met resistance at its 200-day moving line.\n",
        "\n",
        "Chevron stock's relative strength line, which gauges its strength against the overall S&P 500, has been on a downtrend and is currently 39.\n",
        "\n",
        "Chevron stock is not a buy right now.\n",
        "\"\"\""
      ],
      "metadata": {
        "id": "4J-OOQGbk0ZR"
      },
      "execution_count": null,
      "outputs": []
    },
    {
      "cell_type": "code",
      "source": [
        "# Test Function\n",
        "full_response = generate_response(article)\n",
        "split_response = full_response.split(\"</s>\", 1)\n",
        "final_response = split_response[1]\n",
        "print(final_response)"
      ],
      "metadata": {
        "colab": {
          "base_uri": "https://localhost:8080/"
        },
        "id": "mLUPZwIqpqax",
        "outputId": "a67894af-1ccd-4dd2-97d5-c860272fe7b7"
      },
      "execution_count": null,
      "outputs": [
        {
          "output_type": "stream",
          "name": "stderr",
          "text": [
            "/usr/local/lib/python3.10/dist-packages/langchain_core/_api/deprecation.py:119: LangChainDeprecationWarning: The class `LLMChain` was deprecated in LangChain 0.1.17 and will be removed in 0.3.0. Use RunnableSequence, e.g., `prompt | llm` instead.\n",
            "  warn_deprecated(\n",
            "/usr/local/lib/python3.10/dist-packages/langchain_core/_api/deprecation.py:119: LangChainDeprecationWarning: The method `Chain.run` was deprecated in langchain 0.1.0 and will be removed in 0.3.0. Use invoke instead.\n",
            "  warn_deprecated(\n"
          ]
        },
        {
          "output_type": "stream",
          "name": "stdout",
          "text": [
            " \n",
            "        \n",
            "Summary:\n",
            "        \n",
            "        Financial Targets\n",
            "            •\tAchieved Target\n",
            "            •\tBelow Target\n",
            "            •\tGreatly Exceeded Target\n",
            "            N/A: Significantly below Target\n",
            "            N/A: Small Reserves Loss / Writeoff\n",
            "\n",
            "        Exploration / Discoveries\n",
            "            •\tMajor Discovery\n",
            "            •\tMinor Discovery\n",
            "            •\tFavorable Exploration Results\n",
            "            •\tUnfavorable Exploration Results\n",
            "\n",
            "        Reserves\n",
            "            •\tSignificant Reserves Add\n",
            "            •\tMinor Reserves Add\n",
            "            •\tStable Reserve Levels\n",
            "            •\tSmall Reserves Loss / Writeoff\n",
            "            N/A: Significant Reserves Depletions / Writeoff\n",
            "\n",
            "        Production Targets\n",
            "            •\tGreatly Exceeded Target\n",
            "            •\tExceeded Target\n",
            "            •\tAchieved Target\n",
            "            •\tBelow Target\n",
            "            •\tSignificantly below Target\n",
            "\n",
            "        New Energy Investments / Projects\n",
            "            •\tMajor Advancements in New Energy Initiatives\n",
            "            •\tMinor Advancements in New Energy Initiatives\n",
            "            •\tSetback in New Energies Project\n",
            "            N/A: New Energy Projects Abandoned or Failed\n",
            "\n",
            "        Acquisitions and Mergers\n",
            "            •\tMajor Acquisition or Merger\n",
            "            •\tMinor Acquisition or Merger\n",
            "            •\tDelay in Acquisition or Merger\n",
            "            •\tCancelled Acquisition or Merger\n",
            "\n",
            "        Divestments\n",
            "            •\tMajor Divestment\n",
            "            •\tSmall Divestment\n",
            "\n",
            "        Public Sentiment\n",
            "            •\tNeutral\n",
            "            •\tNegative\n",
            "            •\tPositive\n",
            "            •\tVery Negative\n",
            "\n",
            "        Regulatory / Geopolitical Factors\n",
            "            N/A\n",
            "\n",
            "        Environmental Factors\n",
            "            N/A\n",
            "\n",
            "        Note: The output format for each category may change as the text is parsed to identify relevant data points and sentiments.\n"
          ]
        }
      ]
    }
  ]
}