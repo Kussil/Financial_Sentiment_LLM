{
 "cells": [
  {
   "cell_type": "code",
   "execution_count": null,
   "id": "c0dfdd40",
   "metadata": {},
   "outputs": [],
   "source": [
    "import pandas as pd\n",
    "from bs4 import BeautifulSoup\n",
    "import os\n",
    "import time\n",
    "\n",
    "# Import log to merge metadata later\n",
    "log = pd.read_csv('download_log.csv')\n",
    "display(log.head())"
   ]
  },
  {
   "cell_type": "code",
   "execution_count": null,
   "id": "398dfb1e",
   "metadata": {},
   "outputs": [],
   "source": [
    "# Loop through the HTML files in the SEC_data directory and add text to a csv file\n",
    "save_directory = os.path.join(\"..\", \"SEC_data\")\n",
    "data = []\n",
    "\n",
    "for file_name in os.listdir(save_directory):\n",
    "    file_path = os.path.join(save_directory, file_name)\n",
    "    # Read the content of the file\n",
    "    with open(file_path, 'r', encoding='utf-8') as file:\n",
    "        html_content = file.read()\n",
    "        # Convert HTML to plain text\n",
    "        soup = BeautifulSoup(html_content, 'html.parser')\n",
    "        text = soup.get_text(separator='\\n')\n",
    "        # Extract information from the file name\n",
    "        access_number, ticker, form, date = file_name.split('_')\n",
    "        date = date.replace('.html', '')\n",
    "        # Add the content to the data list\n",
    "        data.append({\n",
    "            'AccessionNumber': access_number,\n",
    "            'Ticker': ticker,\n",
    "            'Date': date,\n",
    "            'Form': form,\n",
    "            'Text': text\n",
    "        })\n",
    "\n",
    "# Create a DataFrame from the data list\n",
    "df = pd.DataFrame(data)\n",
    "display(df.head())"
   ]
  },
  {
   "cell_type": "code",
   "execution_count": null,
   "id": "e31d963d",
   "metadata": {},
   "outputs": [],
   "source": [
    "# Add metadata from log\n"
   ]
  }
 ],
 "metadata": {
  "kernelspec": {
   "display_name": "Python 3 (ipykernel)",
   "language": "python",
   "name": "python3"
  },
  "language_info": {
   "codemirror_mode": {
    "name": "ipython",
    "version": 3
   },
   "file_extension": ".py",
   "mimetype": "text/x-python",
   "name": "python",
   "nbconvert_exporter": "python",
   "pygments_lexer": "ipython3",
   "version": "3.11.5"
  }
 },
 "nbformat": 4,
 "nbformat_minor": 5
}
