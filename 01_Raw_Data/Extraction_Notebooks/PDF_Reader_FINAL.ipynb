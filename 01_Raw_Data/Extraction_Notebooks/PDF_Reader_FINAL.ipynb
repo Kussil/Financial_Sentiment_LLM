{
 "cells": [
  {
   "cell_type": "code",
   "execution_count": 3,
   "id": "a5c44df2",
   "metadata": {},
   "outputs": [],
   "source": [
    "import requests\n",
    "from bs4 import BeautifulSoup\n",
    "import csv\n",
    "import re\n",
    "import socket\n",
    "import pandas as pd\n",
    "import pdfplumber\n",
    "import os"
   ]
  },
  {
   "cell_type": "code",
   "execution_count": 5,
   "id": "373404a2",
   "metadata": {},
   "outputs": [
    {
     "name": "stdout",
     "output_type": "stream",
     "text": [
      "Error reading investment research/PDFs_Majors2/CFRAEquityResearch_1172361954_Feb_22,_2020.pdf: Unexpected EOF\n",
      "Data saved to Investment Research/analyst_reports_majors2.csv\n",
      "Updated data saved to Investment Research/investment Research-majors2.csv\n"
     ]
    }
   ],
   "source": [
    "\n",
    "def extract_text_and_title(pdf_path):\n",
    "    try:\n",
    "        with pdfplumber.open(pdf_path) as pdf:\n",
    "            first_page = pdf.pages[0]\n",
    "            text = first_page.extract_text()\n",
    "        return text\n",
    "    except Exception as e:\n",
    "        print(f\"Error reading {pdf_path}: {e}\")\n",
    "        return None\n",
    "\n",
    "def extract_date_from_filename(filename):\n",
    "    # Regex to match the date format in the filename\n",
    "    date_pattern = r'(\\w{3})_(\\d{1,2}),_(\\d{4})\\.pdf'\n",
    "    match = re.search(date_pattern, filename)\n",
    "    if match:\n",
    "        # Construct date string and return it\n",
    "        return f\"{match.group(1)} {match.group(2)}, {match.group(3)}\"\n",
    "    else:\n",
    "        return 'Date not found'\n",
    "\n",
    "# Directory containing PDFs\n",
    "pdf_dir = 'investment research/PDFs_Majors2'\n",
    "pdf_files = [f for f in os.listdir(pdf_dir) if f.endswith('.pdf')]\n",
    "\n",
    "# Extract data from each PDF\n",
    "data = []\n",
    "for pdf_file in pdf_files:\n",
    "    pdf_path = os.path.join(pdf_dir, pdf_file)\n",
    "    text = extract_text_and_title(pdf_path)\n",
    "    if text is None:\n",
    "        continue  # Skip files that couldn't be read\n",
    "    title = pdf_file  # Use file name as title\n",
    "    source = pdf_file.split('_')[0]  # Extract source from file name\n",
    "    date = extract_date_from_filename(pdf_file)  # Extract date from filename\n",
    "    data.append({'Date': date, 'Title': title, 'Source': source, 'Text': text})\n",
    "\n",
    "# Create a DataFrame\n",
    "df = pd.DataFrame(data)\n",
    "\n",
    "# Save to CSV for new reference file\n",
    "csv_path = 'Investment Research/analyst_reports_majors2.csv'\n",
    "df.to_csv(csv_path, index=False)\n",
    "print('Data saved to ' + csv_path)\n",
    "\n",
    "# Load existing CSV from search .csv\n",
    "existing_csv_path = 'Investment Research/investment Research-majors2.csv'\n",
    "existing_df = pd.read_csv(existing_csv_path)\n",
    "\n",
    "# Add the 'Text' column from new data to the existing DataFrame\n",
    "# Assuming the indices match; if not, you might need to set them explicitly\n",
    "existing_df['Text'] = df['Text']\n",
    "\n",
    "# Save to CSV\n",
    "csv_path2 = 'Investment Research/investment Research-majors2.csv'\n",
    "existing_df.to_csv(csv_path2, index=False)\n",
    "print('Updated data saved to ' + csv_path2)"
   ]
  },
  {
   "cell_type": "code",
   "execution_count": 1,
   "id": "6606f2ac",
   "metadata": {},
   "outputs": [
    {
     "ename": "NameError",
     "evalue": "name 'existing_df' is not defined",
     "output_type": "error",
     "traceback": [
      "\u001b[0;31m---------------------------------------------------------------------------\u001b[0m",
      "\u001b[0;31mNameError\u001b[0m                                 Traceback (most recent call last)",
      "Cell \u001b[0;32mIn[1], line 1\u001b[0m\n\u001b[0;32m----> 1\u001b[0m existing_df\n",
      "\u001b[0;31mNameError\u001b[0m: name 'existing_df' is not defined"
     ]
    }
   ],
   "source": [
    "existing_df"
   ]
  },
  {
   "cell_type": "code",
   "execution_count": null,
   "id": "62f34009",
   "metadata": {},
   "outputs": [],
   "source": []
  }
 ],
 "metadata": {
  "kernelspec": {
   "display_name": "Python 3 (ipykernel)",
   "language": "python",
   "name": "python3"
  },
  "language_info": {
   "codemirror_mode": {
    "name": "ipython",
    "version": 3
   },
   "file_extension": ".py",
   "mimetype": "text/x-python",
   "name": "python",
   "nbconvert_exporter": "python",
   "pygments_lexer": "ipython3",
   "version": "3.11.4"
  }
 },
 "nbformat": 4,
 "nbformat_minor": 5
}
